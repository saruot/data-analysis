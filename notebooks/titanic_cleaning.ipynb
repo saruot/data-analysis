{
 "cells": [
  {
   "cell_type": "code",
   "execution_count": 1,
   "metadata": {},
   "outputs": [
    {
     "data": {
      "text/plain": [
       "854"
      ]
     },
     "execution_count": 1,
     "metadata": {},
     "output_type": "execute_result"
    }
   ],
   "source": [
    "# Import pandas\n",
    "import pandas as pd\n",
    "# Assing data to dataframe variable\n",
    "df = pd.read_csv(\"titanic_for_exercise.csv\")\n",
    "# Drop rows where age or fare is null\n",
    "df = df.dropna(subset=[\"Age\", \"Fare\"])\n",
    "# Reassign the dataframe variable with\n",
    "# new dataframe, which doesnt have the inconsistent values of negatives or zeros\n",
    "df = df[(df[\"Age\"] >= 0) & (df[\"Fare\"] > 0)]\n",
    "# Reassign the variable again, with previously sanitized data. This line checks\n",
    "# if the sex is either male or female\n",
    "df = df[df[\"Sex\"].isin([\"male\", \"female\"])]\n",
    "# Assigning the requested number of cleaned rows to a variable\n",
    "num_rows_after_cleaning = len(df)\n",
    "# Displaying the number of rows after cleaning the dataset\n",
    "num_rows_after_cleaning\n"
   ]
  }
 ],
 "metadata": {
  "kernelspec": {
   "display_name": "Python 3",
   "language": "python",
   "name": "python3"
  },
  "language_info": {
   "codemirror_mode": {
    "name": "ipython",
    "version": 3
   },
   "file_extension": ".py",
   "mimetype": "text/x-python",
   "name": "python",
   "nbconvert_exporter": "python",
   "pygments_lexer": "ipython3",
   "version": "3.11.5"
  },
  "orig_nbformat": 4
 },
 "nbformat": 4,
 "nbformat_minor": 2
}
