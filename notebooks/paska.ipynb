{
 "cells": [
  {
   "cell_type": "code",
   "execution_count": 3,
   "metadata": {},
   "outputs": [],
   "source": [
    "import pandas as pd"
   ]
  },
  {
   "cell_type": "code",
   "execution_count": 4,
   "metadata": {},
   "outputs": [
    {
     "name": "stdout",
     "output_type": "stream",
     "text": [
      "hello world\n"
     ]
    }
   ],
   "source": [
    "print(\"hello world\")"
   ]
  },
  {
   "cell_type": "code",
   "execution_count": 6,
   "metadata": {},
   "outputs": [],
   "source": [
    "def printHellofunc():\n",
    "    print(\"hello nigga\")"
   ]
  },
  {
   "cell_type": "markdown",
   "metadata": {},
   "source": [
    "markdownshit"
   ]
  },
  {
   "cell_type": "code",
   "execution_count": 1,
   "metadata": {},
   "outputs": [
    {
     "data": {
      "text/plain": [
       "<bound method NDFrame.head of       Age\n",
       "0     NaN\n",
       "1    38.0\n",
       "2    26.0\n",
       "3    35.0\n",
       "4    35.0\n",
       "..    ...\n",
       "882  27.0\n",
       "883  19.0\n",
       "884   7.0\n",
       "885  26.0\n",
       "886  32.0\n",
       "\n",
       "[887 rows x 1 columns]>"
      ]
     },
     "execution_count": 1,
     "metadata": {},
     "output_type": "execute_result"
    }
   ],
   "source": [
    "import pandas as pd\n",
    "df = pd.read_csv(\"../Data/titanic_for_exercise.csv\")\n",
    "df.head\n",
    "a = df[['Age']]\n",
    "a.head\n"
   ]
  },
  {
   "cell_type": "code",
   "execution_count": 22,
   "metadata": {},
   "outputs": [
    {
     "data": {
      "text/plain": [
       "array([11, 10,  9,  8,  7])"
      ]
     },
     "execution_count": 22,
     "metadata": {},
     "output_type": "execute_result"
    }
   ],
   "source": [
    "import numpy as np\n",
    "a = np.array([10,9,8,7,6])\n",
    "a+1"
   ]
  },
  {
   "cell_type": "code",
   "execution_count": 24,
   "metadata": {},
   "outputs": [
    {
     "name": "stdout",
     "output_type": "stream",
     "text": [
      "['Time', 'Wind', 'Temp', 'Price']\n"
     ]
    }
   ],
   "source": [
    "import csv\n",
    "\n",
    "def csvToList():\n",
    "    data_list = []\n",
    "    \n",
    "    with open('../Data/fmi_weather_and_price.csv', 'r', newline='') as csvfile:\n",
    "        csvreader = csv.reader(csvfile)\n",
    "        for row in csvreader:\n",
    "            data_list.append(row)\n",
    "            break  \n",
    "    \n",
    "    print(data_list[0])\n",
    "\n",
    "csvToList()\n"
   ]
  },
  {
   "cell_type": "code",
   "execution_count": 27,
   "metadata": {},
   "outputs": [
    {
     "name": "stdout",
     "output_type": "stream",
     "text": [
      "4.269242786687939\n",
      "5.483564429245209\n",
      "9.962228838057179\n"
     ]
    }
   ],
   "source": [
    "import csv\n",
    "\n",
    "def printMeanValues():\n",
    "    total_wind = 0.0\n",
    "    total_temp = 0.0\n",
    "    total_price = 0.0\n",
    "    num_rows = 0\n",
    "    \n",
    "    with open('../Data/fmi_weather_and_price.csv', 'r', newline='') as csvfile:\n",
    "        csvreader = csv.reader(csvfile)\n",
    "        next(csvreader)  # Skip the header row\n",
    "        for row in csvreader:\n",
    "            total_wind += float(row[1])  # Assuming 'Wind' is the second column (index 1)\n",
    "            total_temp += float(row[2])  # Assuming 'Temp' is the third column (index 2)\n",
    "            total_price += float(row[3])  # Assuming 'Price' is the fourth column (index 3)\n",
    "            num_rows += 1\n",
    "    \n",
    "    if num_rows > 0:\n",
    "        average_wind = total_wind / num_rows\n",
    "        average_temp = total_temp / num_rows\n",
    "        average_price = total_price / num_rows\n",
    "        \n",
    "        print(average_wind)\n",
    "        print(average_temp)\n",
    "        print(average_price)\n",
    "\n",
    "printMeanValues()\n"
   ]
  },
  {
   "cell_type": "code",
   "execution_count": null,
   "metadata": {},
   "outputs": [],
   "source": []
  },
  {
   "cell_type": "code",
   "execution_count": null,
   "metadata": {},
   "outputs": [],
   "source": []
  },
  {
   "cell_type": "code",
   "execution_count": null,
   "metadata": {},
   "outputs": [],
   "source": []
  },
  {
   "cell_type": "code",
   "execution_count": null,
   "metadata": {},
   "outputs": [],
   "source": []
  },
  {
   "cell_type": "code",
   "execution_count": null,
   "metadata": {},
   "outputs": [],
   "source": []
  },
  {
   "cell_type": "code",
   "execution_count": null,
   "metadata": {},
   "outputs": [],
   "source": []
  }
 ],
 "metadata": {
  "kernelspec": {
   "display_name": "Python 3",
   "language": "python",
   "name": "python3"
  },
  "language_info": {
   "codemirror_mode": {
    "name": "ipython",
    "version": 3
   },
   "file_extension": ".py",
   "mimetype": "text/x-python",
   "name": "python",
   "nbconvert_exporter": "python",
   "pygments_lexer": "ipython3",
   "version": "3.11.5"
  },
  "orig_nbformat": 4
 },
 "nbformat": 4,
 "nbformat_minor": 2
}
