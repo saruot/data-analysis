{
 "cells": [
  {
   "cell_type": "code",
   "execution_count": 1,
   "metadata": {},
   "outputs": [],
   "source": [
    "import pandas as pd\n",
    "from scipy import stats\n",
    "import seaborn as sns\n",
    "import plotly.graph_objects as go\n",
    "import statsmodels.api as sm\n",
    "from statsmodels.formula.api import ols"
   ]
  },
  {
   "cell_type": "code",
   "execution_count": 2,
   "metadata": {},
   "outputs": [
    {
     "name": "stderr",
     "output_type": "stream",
     "text": [
      "C:\\Users\\sjoke\\AppData\\Local\\Temp\\ipykernel_12940\\379518849.py:2: DtypeWarning: Columns (33,35,38) have mixed types. Specify dtype option on import or set low_memory=False.\n",
      "  data = pd.read_csv(\"./openpowerlifting-2023-08-12/openpowerlifting-2023-08-12-9f1b3427.csv\")\n"
     ]
    },
    {
     "name": "stdout",
     "output_type": "stream",
     "text": [
      "Name\n",
      "Sex\n",
      "Event\n",
      "Equipment\n",
      "Age\n",
      "AgeClass\n",
      "BirthYearClass\n",
      "Division\n",
      "BodyweightKg\n",
      "WeightClassKg\n",
      "Squat1Kg\n",
      "Squat2Kg\n",
      "Squat3Kg\n",
      "Squat4Kg\n",
      "Best3SquatKg\n",
      "Bench1Kg\n",
      "Bench2Kg\n",
      "Bench3Kg\n",
      "Bench4Kg\n",
      "Best3BenchKg\n",
      "Deadlift1Kg\n",
      "Deadlift2Kg\n",
      "Deadlift3Kg\n",
      "Deadlift4Kg\n",
      "Best3DeadliftKg\n",
      "TotalKg\n",
      "Place\n",
      "Dots\n",
      "Wilks\n",
      "Glossbrenner\n",
      "Goodlift\n",
      "Tested\n",
      "Country\n",
      "State\n",
      "Federation\n",
      "ParentFederation\n",
      "Date\n",
      "MeetCountry\n",
      "MeetState\n",
      "MeetTown\n",
      "MeetName\n"
     ]
    }
   ],
   "source": [
    "#Alright, the data is pretty massive, so I'll just take a quick gander at all the columns we're working with\n",
    "data = pd.read_csv(\"./openpowerlifting-2023-08-12/openpowerlifting-2023-08-12-9f1b3427.csv\")\n",
    "data_top = data.head()\n",
    "for col in data_top:\n",
    "        print(col)"
   ]
  },
  {
   "cell_type": "code",
   "execution_count": 3,
   "metadata": {},
   "outputs": [
    {
     "data": {
      "text/html": [
       "<div>\n",
       "<style scoped>\n",
       "    .dataframe tbody tr th:only-of-type {\n",
       "        vertical-align: middle;\n",
       "    }\n",
       "\n",
       "    .dataframe tbody tr th {\n",
       "        vertical-align: top;\n",
       "    }\n",
       "\n",
       "    .dataframe thead th {\n",
       "        text-align: right;\n",
       "    }\n",
       "</style>\n",
       "<table border=\"1\" class=\"dataframe\">\n",
       "  <thead>\n",
       "    <tr style=\"text-align: right;\">\n",
       "      <th></th>\n",
       "      <th>Name</th>\n",
       "      <th>Sex</th>\n",
       "      <th>Event</th>\n",
       "      <th>Equipment</th>\n",
       "      <th>Age</th>\n",
       "      <th>AgeClass</th>\n",
       "      <th>BirthYearClass</th>\n",
       "      <th>Division</th>\n",
       "      <th>BodyweightKg</th>\n",
       "      <th>WeightClassKg</th>\n",
       "      <th>...</th>\n",
       "      <th>Tested</th>\n",
       "      <th>Country</th>\n",
       "      <th>State</th>\n",
       "      <th>Federation</th>\n",
       "      <th>ParentFederation</th>\n",
       "      <th>Date</th>\n",
       "      <th>MeetCountry</th>\n",
       "      <th>MeetState</th>\n",
       "      <th>MeetTown</th>\n",
       "      <th>MeetName</th>\n",
       "    </tr>\n",
       "  </thead>\n",
       "  <tbody>\n",
       "    <tr>\n",
       "      <th>0</th>\n",
       "      <td>Alona Vladi</td>\n",
       "      <td>F</td>\n",
       "      <td>SBD</td>\n",
       "      <td>Raw</td>\n",
       "      <td>33.0</td>\n",
       "      <td>24-34</td>\n",
       "      <td>24-39</td>\n",
       "      <td>O</td>\n",
       "      <td>58.30</td>\n",
       "      <td>60</td>\n",
       "      <td>...</td>\n",
       "      <td>Yes</td>\n",
       "      <td>Russia</td>\n",
       "      <td>NaN</td>\n",
       "      <td>GFP</td>\n",
       "      <td>NaN</td>\n",
       "      <td>2019-05-11</td>\n",
       "      <td>Russia</td>\n",
       "      <td>NaN</td>\n",
       "      <td>Bryansk</td>\n",
       "      <td>Open Tournament</td>\n",
       "    </tr>\n",
       "    <tr>\n",
       "      <th>1</th>\n",
       "      <td>Galina Solovyanova</td>\n",
       "      <td>F</td>\n",
       "      <td>SBD</td>\n",
       "      <td>Raw</td>\n",
       "      <td>43.0</td>\n",
       "      <td>40-44</td>\n",
       "      <td>40-49</td>\n",
       "      <td>M1</td>\n",
       "      <td>73.10</td>\n",
       "      <td>75</td>\n",
       "      <td>...</td>\n",
       "      <td>Yes</td>\n",
       "      <td>Russia</td>\n",
       "      <td>NaN</td>\n",
       "      <td>GFP</td>\n",
       "      <td>NaN</td>\n",
       "      <td>2019-05-11</td>\n",
       "      <td>Russia</td>\n",
       "      <td>NaN</td>\n",
       "      <td>Bryansk</td>\n",
       "      <td>Open Tournament</td>\n",
       "    </tr>\n",
       "    <tr>\n",
       "      <th>2</th>\n",
       "      <td>Daniil Voronin</td>\n",
       "      <td>M</td>\n",
       "      <td>SBD</td>\n",
       "      <td>Raw</td>\n",
       "      <td>15.5</td>\n",
       "      <td>16-17</td>\n",
       "      <td>14-18</td>\n",
       "      <td>T</td>\n",
       "      <td>67.40</td>\n",
       "      <td>75</td>\n",
       "      <td>...</td>\n",
       "      <td>Yes</td>\n",
       "      <td>Russia</td>\n",
       "      <td>NaN</td>\n",
       "      <td>GFP</td>\n",
       "      <td>NaN</td>\n",
       "      <td>2019-05-11</td>\n",
       "      <td>Russia</td>\n",
       "      <td>NaN</td>\n",
       "      <td>Bryansk</td>\n",
       "      <td>Open Tournament</td>\n",
       "    </tr>\n",
       "    <tr>\n",
       "      <th>3</th>\n",
       "      <td>Aleksey Krasov</td>\n",
       "      <td>M</td>\n",
       "      <td>SBD</td>\n",
       "      <td>Raw</td>\n",
       "      <td>35.0</td>\n",
       "      <td>35-39</td>\n",
       "      <td>24-39</td>\n",
       "      <td>O</td>\n",
       "      <td>66.65</td>\n",
       "      <td>75</td>\n",
       "      <td>...</td>\n",
       "      <td>Yes</td>\n",
       "      <td>Russia</td>\n",
       "      <td>NaN</td>\n",
       "      <td>GFP</td>\n",
       "      <td>NaN</td>\n",
       "      <td>2019-05-11</td>\n",
       "      <td>Russia</td>\n",
       "      <td>NaN</td>\n",
       "      <td>Bryansk</td>\n",
       "      <td>Open Tournament</td>\n",
       "    </tr>\n",
       "    <tr>\n",
       "      <th>4</th>\n",
       "      <td>Margarita Pleschenkova</td>\n",
       "      <td>M</td>\n",
       "      <td>SBD</td>\n",
       "      <td>Raw</td>\n",
       "      <td>26.5</td>\n",
       "      <td>24-34</td>\n",
       "      <td>24-39</td>\n",
       "      <td>O</td>\n",
       "      <td>72.45</td>\n",
       "      <td>75</td>\n",
       "      <td>...</td>\n",
       "      <td>Yes</td>\n",
       "      <td>Russia</td>\n",
       "      <td>NaN</td>\n",
       "      <td>GFP</td>\n",
       "      <td>NaN</td>\n",
       "      <td>2019-05-11</td>\n",
       "      <td>Russia</td>\n",
       "      <td>NaN</td>\n",
       "      <td>Bryansk</td>\n",
       "      <td>Open Tournament</td>\n",
       "    </tr>\n",
       "  </tbody>\n",
       "</table>\n",
       "<p>5 rows × 41 columns</p>\n",
       "</div>"
      ],
      "text/plain": [
       "                     Name Sex Event Equipment   Age AgeClass BirthYearClass  \\\n",
       "0             Alona Vladi   F   SBD       Raw  33.0    24-34          24-39   \n",
       "1      Galina Solovyanova   F   SBD       Raw  43.0    40-44          40-49   \n",
       "2          Daniil Voronin   M   SBD       Raw  15.5    16-17          14-18   \n",
       "3          Aleksey Krasov   M   SBD       Raw  35.0    35-39          24-39   \n",
       "4  Margarita Pleschenkova   M   SBD       Raw  26.5    24-34          24-39   \n",
       "\n",
       "  Division  BodyweightKg WeightClassKg  ...  Tested  Country  State  \\\n",
       "0        O         58.30            60  ...     Yes   Russia    NaN   \n",
       "1       M1         73.10            75  ...     Yes   Russia    NaN   \n",
       "2        T         67.40            75  ...     Yes   Russia    NaN   \n",
       "3        O         66.65            75  ...     Yes   Russia    NaN   \n",
       "4        O         72.45            75  ...     Yes   Russia    NaN   \n",
       "\n",
       "   Federation  ParentFederation        Date  MeetCountry  MeetState  MeetTown  \\\n",
       "0         GFP               NaN  2019-05-11       Russia        NaN   Bryansk   \n",
       "1         GFP               NaN  2019-05-11       Russia        NaN   Bryansk   \n",
       "2         GFP               NaN  2019-05-11       Russia        NaN   Bryansk   \n",
       "3         GFP               NaN  2019-05-11       Russia        NaN   Bryansk   \n",
       "4         GFP               NaN  2019-05-11       Russia        NaN   Bryansk   \n",
       "\n",
       "          MeetName  \n",
       "0  Open Tournament  \n",
       "1  Open Tournament  \n",
       "2  Open Tournament  \n",
       "3  Open Tournament  \n",
       "4  Open Tournament  \n",
       "\n",
       "[5 rows x 41 columns]"
      ]
     },
     "execution_count": 3,
     "metadata": {},
     "output_type": "execute_result"
    }
   ],
   "source": [
    "data_top"
   ]
  },
  {
   "cell_type": "code",
   "execution_count": 4,
   "metadata": {},
   "outputs": [],
   "source": [
    "#First hypothesis: \"Men lift more than women in total weight lifted = Squat-Bench-Deadlift\"\n",
    "#Data is filtered accordingly\n",
    "filtered_data = data.loc[(data[\"Event\"] == \"SBD\") & (data[\"Equipment\"] == \"Raw\") & (data[\"Federation\"] == \"IPF\")]\n",
    "men_total = filtered_data[filtered_data[\"Sex\"] == \"M\"][\"TotalKg\"]\n",
    "women_total = filtered_data[filtered_data[\"Sex\"] == \"F\"][\"TotalKg\"]\n"
   ]
  },
  {
   "cell_type": "code",
   "execution_count": 5,
   "metadata": {},
   "outputs": [
    {
     "name": "stdout",
     "output_type": "stream",
     "text": [
      "73\n",
      "169\n"
     ]
    }
   ],
   "source": [
    "#Routine checkup and cleanup\n",
    "print(women_total.isnull().sum())\n",
    "print(men_total.isnull().sum())\n",
    "\n",
    "#Let's drop the rows with empty values, as it interferes with testing\n",
    "men_total = men_total.dropna()\n",
    "women_total = women_total.dropna()"
   ]
  },
  {
   "cell_type": "code",
   "execution_count": 6,
   "metadata": {},
   "outputs": [
    {
     "data": {
      "text/plain": [
       "<Axes: xlabel='TotalKg', ylabel='Count'>"
      ]
     },
     "execution_count": 6,
     "metadata": {},
     "output_type": "execute_result"
    },
    {
     "data": {
      "image/png": "[encoded data removed]",
      "text/plain": [
       "<Figure size 640x480 with 1 Axes>"
      ]
     },
     "metadata": {},
     "output_type": "display_data"
    }
   ],
   "source": [
    "#Let's take a look at the distribution of data\n",
    "sns.histplot(men_total, color='blue', label='Men')\n",
    "sns.histplot(women_total, color='red', label='Women')"
   ]
  },
  {
   "cell_type": "code",
   "execution_count": 7,
   "metadata": {},
   "outputs": [
    {
     "name": "stdout",
     "output_type": "stream",
     "text": [
      "t-statistic: 94.79492392841424\n",
      "p-value: 0.0\n",
      "Hypothesis 1: Men lift more than women (TotalKg) is supported.\n"
     ]
    }
   ],
   "source": [
    "#The difference is clear in the graph, but let's perform a t-test\n",
    "t_stat, p_value = stats.ttest_ind(men_total, women_total)\n",
    "print(\"t-statistic:\", t_stat)\n",
    "print(\"p-value:\", p_value)\n",
    "\n",
    "alpha = 0.05  \n",
    "if p_value < alpha:\n",
    "    print(\"Hypothesis 1: Men lift more than women (TotalKg) is supported.\")\n",
    "else:\n",
    "    print(\"Hypothesis 1: Men lift more than women (TotalKg) is not supported.\")"
   ]
  },
  {
   "cell_type": "code",
   "execution_count": 8,
   "metadata": {},
   "outputs": [],
   "source": [
    "#We'll just iterate the process for the next hypotheses, starting with \"Men bench press more than women\"\n",
    "\n",
    "men_bench = filtered_data[filtered_data[\"Sex\"] == \"M\"][\"Best3BenchKg\"]\n",
    "women_bench = filtered_data[filtered_data[\"Sex\"] == \"F\"][\"Best3BenchKg\"]\n",
    "\n",
    "men_bench = men_bench.dropna()\n",
    "women_bench = women_bench.dropna()\n",
    "\n",
    "men_bench = men_bench[men_bench >= 0]\n",
    "women_bench = women_bench[women_bench >= 0]\n"
   ]
  },
  {
   "cell_type": "code",
   "execution_count": 9,
   "metadata": {},
   "outputs": [
    {
     "data": {
      "text/plain": [
       "<Axes: xlabel='Best3BenchKg', ylabel='Count'>"
      ]
     },
     "execution_count": 9,
     "metadata": {},
     "output_type": "execute_result"
    },
    {
     "data": {
      "image/png": "[encoded data removed]",
      "text/plain": [
       "<Figure size 640x480 with 1 Axes>"
      ]
     },
     "metadata": {},
     "output_type": "display_data"
    }
   ],
   "source": [
    "sns.histplot(men_bench, color='blue', label='Men')\n",
    "sns.histplot(women_bench, color='red', label='Women')"
   ]
  },
  {
   "cell_type": "code",
   "execution_count": 10,
   "metadata": {},
   "outputs": [
    {
     "name": "stdout",
     "output_type": "stream",
     "text": [
      "t-statistic: 98.0485057920161\n",
      "p-value: 0.0\n",
      "Hypothesis 2: Men bench press more than women is supported.\n"
     ]
    }
   ],
   "source": [
    "t_stat, p_value = stats.ttest_ind(men_bench, women_bench)\n",
    "print(\"t-statistic:\", t_stat)\n",
    "print(\"p-value:\", p_value)\n",
    "\n",
    "alpha = 0.05  \n",
    "if p_value < alpha:\n",
    "    print(\"Hypothesis 2: Men bench press more than women is supported.\")\n",
    "else:\n",
    "    print(\"Hypothesis 2: Men bench press more than women is not supported.\")"
   ]
  },
  {
   "cell_type": "markdown",
   "metadata": {},
   "source": [
    "#####\n",
    "From here on, I'll just iterate. The whole code will be included in a seperate .py file, which also generates a Streamlit site, with all the data.\n",
    "#####"
   ]
  },
  {
   "cell_type": "code",
   "execution_count": 11,
   "metadata": {},
   "outputs": [],
   "source": [
    "# Hypothesis 3: Men lift more than women when bodyweight is 50-55kg\n",
    "# Hypothesis 4: Men lift more than women when bodyweight is 100-105kg\n",
    "\n",
    "\n",
    "men_total_50kg = filtered_data[(filtered_data[\"Sex\"] == \"M\") & (filtered_data[\"BodyweightKg\"] >= 50) & (filtered_data[\"BodyweightKg\"] <= 55)][\"TotalKg\"]\n",
    "women_total_50kg = filtered_data[(filtered_data[\"Sex\"] == \"F\") & (filtered_data[\"BodyweightKg\"] >= 50) & (filtered_data[\"BodyweightKg\"] <= 55)][\"TotalKg\"]\n",
    "\n",
    "men_total_100kg = filtered_data[(filtered_data[\"Sex\"] == \"M\") & (filtered_data[\"BodyweightKg\"] >= 100) & (filtered_data[\"BodyweightKg\"] <= 105)][\"TotalKg\"]\n",
    "women_total_100kg = filtered_data[(filtered_data[\"Sex\"] == \"F\") & (filtered_data[\"BodyweightKg\"] >= 100) & (filtered_data[\"BodyweightKg\"] <= 105)][\"TotalKg\"]\n",
    "\n",
    "men_total_50kg = men_total_50kg.dropna()\n",
    "men_total_100kg = men_total_100kg.dropna()\n",
    "women_total_50kg = women_total_50kg.dropna()\n",
    "women_total_100kg = women_total_100kg.dropna()"
   ]
  },
  {
   "cell_type": "code",
   "execution_count": 12,
   "metadata": {},
   "outputs": [
    {
     "name": "stdout",
     "output_type": "stream",
     "text": [
      "t-statistic: 12.774417125709174\n",
      "p-value: 1.8237705358360204e-32\n",
      "t-statistic2: 19.038947098051707\n",
      "p-value2: 9.213849412750742e-63\n",
      "Hypothesis 3: Men lift more than women in the 50-55kg bodyweight range is supported.\n",
      "Hypothesis 4: Men lift more than women in the 100-105kg bodyweight range is supported.\n"
     ]
    }
   ],
   "source": [
    "t_stat1, p_value1 = stats.ttest_ind(men_total_50kg, women_total_50kg)\n",
    "t_stat2, p_value2 = stats.ttest_ind(men_total_100kg, women_total_100kg)\n",
    "print(\"t-statistic:\", t_stat1)\n",
    "print(\"p-value:\", p_value1)\n",
    "print(\"t-statistic2:\", t_stat2)\n",
    "print(\"p-value2:\", p_value2)\n",
    "\n",
    "alpha = 0.05  \n",
    "if p_value1 < alpha:\n",
    "    print(\"Hypothesis 3: Men lift more than women in the 50-55kg bodyweight range is supported.\")\n",
    "else:\n",
    "    print(\"Hypothesis 3: Men lift more than women in the 50-55kg bodyweight range is not supported.\")\n",
    "\n",
    "if p_value2 < alpha:\n",
    "    print(\"Hypothesis 4: Men lift more than women in the 100-105kg bodyweight range is supported.\")\n",
    "else:\n",
    "    print(\"Hypothesis 4: Men lift more than women in the 100-105kg bodyweight range is not supported.\")\n"
   ]
  },
  {
   "cell_type": "code",
   "execution_count": 13,
   "metadata": {},
   "outputs": [
    {
     "data": {
      "text/plain": [
       "<Axes: xlabel='TotalKg', ylabel='Count'>"
      ]
     },
     "execution_count": 13,
     "metadata": {},
     "output_type": "execute_result"
    },
    {
     "data": {
      "image/png": "[encoded data removed]",
      "text/plain": [
       "<Figure size 640x480 with 1 Axes>"
      ]
     },
     "metadata": {},
     "output_type": "display_data"
    }
   ],
   "source": [
    "sns.histplot(men_total_100kg, color='blue', label='WPC')\n",
    "sns.histplot(men_total_50kg, color='purple', label='IPF')\n",
    "sns.histplot(women_total_100kg, color='red', label='WPC')\n",
    "sns.histplot(women_total_50kg, color='yellow', label='IPF')"
   ]
  },
  {
   "cell_type": "code",
   "execution_count": 14,
   "metadata": {},
   "outputs": [],
   "source": [
    "#Hypothesis 5: Men lift more in IPF than in WPC (compare \"TotalKg\" lifts)\n",
    "\n",
    "men_total_IPF = filtered_data[filtered_data[\"Sex\"] == \"M\"][\"TotalKg\"]\n",
    "WPC_data = data.loc[(data[\"Event\"] == \"SBD\") & (data[\"Equipment\"] == \"Raw\") & (data[\"Federation\"] == \"WPC\")]\n",
    "men_total_WPC = WPC_data[WPC_data[\"Sex\"] == \"M\"][\"TotalKg\"]\n",
    "\n",
    "men_total_IPF = men_total_IPF.dropna()\n",
    "men_total_WPC = men_total_WPC.dropna()"
   ]
  },
  {
   "cell_type": "code",
   "execution_count": 15,
   "metadata": {},
   "outputs": [
    {
     "data": {
      "text/plain": [
       "<Axes: xlabel='TotalKg', ylabel='Count'>"
      ]
     },
     "execution_count": 15,
     "metadata": {},
     "output_type": "execute_result"
    },
    {
     "data": {
      "image/png": "[encoded data removed]",
      "text/plain": [
       "<Figure size 640x480 with 1 Axes>"
      ]
     },
     "metadata": {},
     "output_type": "display_data"
    }
   ],
   "source": [
    "sns.histplot(men_total_WPC, color='blue', label='WPC')\n",
    "sns.histplot(men_total_IPF, color='red', label='IPF')"
   ]
  },
  {
   "cell_type": "code",
   "execution_count": 16,
   "metadata": {},
   "outputs": [
    {
     "name": "stdout",
     "output_type": "stream",
     "text": [
      "t-statistic: 26.16302620607868\n",
      "p-value: 1.2016299906421084e-145\n",
      "Hypothesis 5: Men lift more in IPF than in WPC is supported.\n"
     ]
    }
   ],
   "source": [
    "t_stat, p_value = stats.ttest_ind(men_total_IPF, men_total_WPC)\n",
    "print(\"t-statistic:\", t_stat)\n",
    "print(\"p-value:\", p_value)\n",
    "\n",
    "alpha = 0.05\n",
    "if p_value < alpha:\n",
    "    print(\"Hypothesis 5: Men lift more in IPF than in WPC is supported.\")\n",
    "else:\n",
    "    print(\"Hypothesis 5: Men lift more in IPF than in WPC is not supported.\")"
   ]
  },
  {
   "cell_type": "code",
   "execution_count": 17,
   "metadata": {},
   "outputs": [
    {
     "name": "stdout",
     "output_type": "stream",
     "text": [
      "Hypothesis 6: Lifter country affects TotalKg is supported. There is a significant difference in TotalKg among countries.\n"
     ]
    },
    {
     "name": "stderr",
     "output_type": "stream",
     "text": [
      "c:\\Users\\sjoke\\AppData\\Local\\Programs\\Python\\Python311\\Lib\\site-packages\\statsmodels\\base\\model.py:1888: ValueWarning: covariance of constraints does not have full rank. The number of constraints is 101, but rank is 100\n",
      "  warnings.warn('covariance of constraints does not have full '\n"
     ]
    }
   ],
   "source": [
    "#Hypothesis 6: Lifter country affects TotalKg\n",
    "\n",
    "# Perform an ANOVA test to assess the impact of \"Country\" on \"TotalKg\"\n",
    "model = ols('TotalKg ~ Country', data=filtered_data).fit()\n",
    "anova_table = sm.stats.anova_lm(model, typ=2)\n",
    "\n",
    "alpha = 0.05  \n",
    "\n",
    "p_value = anova_table['PR(>F)'][0]\n",
    "\n",
    "if p_value < alpha:\n",
    "    print(\"Hypothesis 6: Lifter country affects TotalKg is supported. There is a significant difference in TotalKg among countries.\")\n",
    "else:\n",
    "    print(\"Hypothesis 6: Lifter country affects TotalKg is not supported. There is no significant difference in TotalKg among countries.\")"
   ]
  }
 ],
 "metadata": {
  "kernelspec": {
   "display_name": "Python 3",
   "language": "python",
   "name": "python3"
  },
  "language_info": {
   "codemirror_mode": {
    "name": "ipython",
    "version": 3
   },
   "file_extension": ".py",
   "mimetype": "text/x-python",
   "name": "python",
   "nbconvert_exporter": "python",
   "pygments_lexer": "ipython3",
   "version": "3.11.5"
  },
  "orig_nbformat": 4
 },
 "nbformat": 4,
 "nbformat_minor": 2
}
